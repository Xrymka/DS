{
 "cells": [
  {
   "cell_type": "code",
   "execution_count": 1,
   "metadata": {},
   "outputs": [],
   "source": [
    "import pandas as pd"
   ]
  },
  {
   "cell_type": "code",
   "execution_count": 2,
   "metadata": {},
   "outputs": [],
   "source": [
    "df = pd.read_excel(\"usd_rate.xlsx\")"
   ]
  },
  {
   "cell_type": "code",
   "execution_count": 3,
   "metadata": {},
   "outputs": [
    {
     "data": {
      "text/html": [
       "<div>\n",
       "<style scoped>\n",
       "    .dataframe tbody tr th:only-of-type {\n",
       "        vertical-align: middle;\n",
       "    }\n",
       "\n",
       "    .dataframe tbody tr th {\n",
       "        vertical-align: top;\n",
       "    }\n",
       "\n",
       "    .dataframe thead th {\n",
       "        text-align: right;\n",
       "    }\n",
       "</style>\n",
       "<table border=\"1\" class=\"dataframe\">\n",
       "  <thead>\n",
       "    <tr style=\"text-align: right;\">\n",
       "      <th></th>\n",
       "      <th>nominal</th>\n",
       "      <th>data</th>\n",
       "      <th>curs</th>\n",
       "      <th>cdx</th>\n",
       "    </tr>\n",
       "  </thead>\n",
       "  <tbody>\n",
       "    <tr>\n",
       "      <td>0</td>\n",
       "      <td>1</td>\n",
       "      <td>2018-03-01</td>\n",
       "      <td>56.3742</td>\n",
       "      <td>Доллар США</td>\n",
       "    </tr>\n",
       "    <tr>\n",
       "      <td>1</td>\n",
       "      <td>1</td>\n",
       "      <td>2018-03-02</td>\n",
       "      <td>56.4334</td>\n",
       "      <td>Доллар США</td>\n",
       "    </tr>\n",
       "    <tr>\n",
       "      <td>2</td>\n",
       "      <td>1</td>\n",
       "      <td>2018-03-03</td>\n",
       "      <td>56.6616</td>\n",
       "      <td>Доллар США</td>\n",
       "    </tr>\n",
       "    <tr>\n",
       "      <td>3</td>\n",
       "      <td>1</td>\n",
       "      <td>2018-03-06</td>\n",
       "      <td>57.1000</td>\n",
       "      <td>Доллар США</td>\n",
       "    </tr>\n",
       "    <tr>\n",
       "      <td>4</td>\n",
       "      <td>1</td>\n",
       "      <td>2018-03-07</td>\n",
       "      <td>56.5041</td>\n",
       "      <td>Доллар США</td>\n",
       "    </tr>\n",
       "  </tbody>\n",
       "</table>\n",
       "</div>"
      ],
      "text/plain": [
       "   nominal       data     curs         cdx\n",
       "0        1 2018-03-01  56.3742  Доллар США\n",
       "1        1 2018-03-02  56.4334  Доллар США\n",
       "2        1 2018-03-03  56.6616  Доллар США\n",
       "3        1 2018-03-06  57.1000  Доллар США\n",
       "4        1 2018-03-07  56.5041  Доллар США"
      ]
     },
     "execution_count": 3,
     "metadata": {},
     "output_type": "execute_result"
    }
   ],
   "source": [
    "df.head()"
   ]
  },
  {
   "cell_type": "code",
   "execution_count": 5,
   "metadata": {},
   "outputs": [
    {
     "data": {
      "text/plain": [
       "<matplotlib.axes._subplots.AxesSubplot at 0x2cfdf68e348>"
      ]
     },
     "execution_count": 5,
     "metadata": {},
     "output_type": "execute_result"
    },
    {
     "data": {
      "image/png": "[encoded data removed]",
      "text/plain": [
       "<Figure size 432x288 with 1 Axes>"
      ]
     },
     "metadata": {
      "needs_background": "light"
     },
     "output_type": "display_data"
    }
   ],
   "source": [
    "df.curs.plot()"
   ]
  },
  {
   "cell_type": "code",
   "execution_count": 7,
   "metadata": {},
   "outputs": [],
   "source": [
    "money = df.curs"
   ]
  },
  {
   "cell_type": "code",
   "execution_count": 8,
   "metadata": {},
   "outputs": [],
   "source": [
    "past = 4 * 7 # Возьмем данные за 4 недели в прошлом\n",
    "future = 7 # Попытаемся предсказать курс на 7 дней в будущем"
   ]
  },
  {
   "cell_type": "code",
   "execution_count": 15,
   "metadata": {},
   "outputs": [
    {
     "data": {
      "text/plain": [
       "count    501.000000\n",
       "mean      64.252755\n",
       "std        2.472874\n",
       "min       56.374200\n",
       "25%       63.035900\n",
       "50%       64.335200\n",
       "75%       65.843000\n",
       "max       72.020800\n",
       "Name: curs, dtype: float64"
      ]
     },
     "execution_count": 15,
     "metadata": {},
     "output_type": "execute_result"
    }
   ],
   "source": [
    "money.describe()"
   ]
  },
  {
   "cell_type": "code",
   "execution_count": 13,
   "metadata": {},
   "outputs": [],
   "source": [
    "start = past\n",
    "end = len(money) - future"
   ]
  },
  {
   "cell_type": "code",
   "execution_count": 14,
   "metadata": {},
   "outputs": [
    {
     "name": "stdout",
     "output_type": "stream",
     "text": [
      "28 494\n"
     ]
    }
   ],
   "source": [
    "print(start, end)"
   ]
  },
  {
   "cell_type": "code",
   "execution_count": 16,
   "metadata": {},
   "outputs": [],
   "source": [
    "new_df = []\n",
    "for i in range(start, end):\n",
    "    all_columns = money[(i-past):(i+future)]\n",
    "    new_df.append(list(all_columns))"
   ]
  },
  {
   "cell_type": "code",
   "execution_count": 17,
   "metadata": {},
   "outputs": [],
   "source": [
    "past_columns = []\n",
    "for i in range(past):\n",
    "    past_columns.append(f'past_{i}')"
   ]
  },
  {
   "cell_type": "code",
   "execution_count": 18,
   "metadata": {},
   "outputs": [],
   "source": [
    "future_columns = []\n",
    "for i in range(future):\n",
    "    future_columns.append(f'future_{i}')"
   ]
  },
  {
   "cell_type": "code",
   "execution_count": 19,
   "metadata": {},
   "outputs": [],
   "source": [
    "transformed_df = pd.DataFrame(new_df, columns =(past_columns + future_columns))"
   ]
  },
  {
   "cell_type": "code",
   "execution_count": 20,
   "metadata": {},
   "outputs": [
    {
     "data": {
      "text/html": [
       "<div>\n",
       "<style scoped>\n",
       "    .dataframe tbody tr th:only-of-type {\n",
       "        vertical-align: middle;\n",
       "    }\n",
       "\n",
       "    .dataframe tbody tr th {\n",
       "        vertical-align: top;\n",
       "    }\n",
       "\n",
       "    .dataframe thead th {\n",
       "        text-align: right;\n",
       "    }\n",
       "</style>\n",
       "<table border=\"1\" class=\"dataframe\">\n",
       "  <thead>\n",
       "    <tr style=\"text-align: right;\">\n",
       "      <th></th>\n",
       "      <th>past_0</th>\n",
       "      <th>past_1</th>\n",
       "      <th>past_2</th>\n",
       "      <th>past_3</th>\n",
       "      <th>past_4</th>\n",
       "      <th>past_5</th>\n",
       "      <th>past_6</th>\n",
       "      <th>past_7</th>\n",
       "      <th>past_8</th>\n",
       "      <th>past_9</th>\n",
       "      <th>...</th>\n",
       "      <th>past_25</th>\n",
       "      <th>past_26</th>\n",
       "      <th>past_27</th>\n",
       "      <th>future_0</th>\n",
       "      <th>future_1</th>\n",
       "      <th>future_2</th>\n",
       "      <th>future_3</th>\n",
       "      <th>future_4</th>\n",
       "      <th>future_5</th>\n",
       "      <th>future_6</th>\n",
       "    </tr>\n",
       "  </thead>\n",
       "  <tbody>\n",
       "    <tr>\n",
       "      <td>0</td>\n",
       "      <td>56.3742</td>\n",
       "      <td>56.4334</td>\n",
       "      <td>56.6616</td>\n",
       "      <td>57.1000</td>\n",
       "      <td>56.5041</td>\n",
       "      <td>56.8011</td>\n",
       "      <td>56.6122</td>\n",
       "      <td>56.9359</td>\n",
       "      <td>56.9372</td>\n",
       "      <td>57.0188</td>\n",
       "      <td>...</td>\n",
       "      <td>57.8332</td>\n",
       "      <td>58.5714</td>\n",
       "      <td>62.3699</td>\n",
       "      <td>64.0626</td>\n",
       "      <td>62.0659</td>\n",
       "      <td>61.4311</td>\n",
       "      <td>62.2794</td>\n",
       "      <td>61.1454</td>\n",
       "      <td>61.5539</td>\n",
       "      <td>60.8583</td>\n",
       "    </tr>\n",
       "    <tr>\n",
       "      <td>1</td>\n",
       "      <td>56.4334</td>\n",
       "      <td>56.6616</td>\n",
       "      <td>57.1000</td>\n",
       "      <td>56.5041</td>\n",
       "      <td>56.8011</td>\n",
       "      <td>56.6122</td>\n",
       "      <td>56.9359</td>\n",
       "      <td>56.9372</td>\n",
       "      <td>57.0188</td>\n",
       "      <td>57.4942</td>\n",
       "      <td>...</td>\n",
       "      <td>58.5714</td>\n",
       "      <td>62.3699</td>\n",
       "      <td>64.0626</td>\n",
       "      <td>62.0659</td>\n",
       "      <td>61.4311</td>\n",
       "      <td>62.2794</td>\n",
       "      <td>61.1454</td>\n",
       "      <td>61.5539</td>\n",
       "      <td>60.8583</td>\n",
       "      <td>61.3222</td>\n",
       "    </tr>\n",
       "    <tr>\n",
       "      <td>2</td>\n",
       "      <td>56.6616</td>\n",
       "      <td>57.1000</td>\n",
       "      <td>56.5041</td>\n",
       "      <td>56.8011</td>\n",
       "      <td>56.6122</td>\n",
       "      <td>56.9359</td>\n",
       "      <td>56.9372</td>\n",
       "      <td>57.0188</td>\n",
       "      <td>57.4942</td>\n",
       "      <td>57.5521</td>\n",
       "      <td>...</td>\n",
       "      <td>62.3699</td>\n",
       "      <td>64.0626</td>\n",
       "      <td>62.0659</td>\n",
       "      <td>61.4311</td>\n",
       "      <td>62.2794</td>\n",
       "      <td>61.1454</td>\n",
       "      <td>61.5539</td>\n",
       "      <td>60.8583</td>\n",
       "      <td>61.3222</td>\n",
       "      <td>61.7655</td>\n",
       "    </tr>\n",
       "    <tr>\n",
       "      <td>3</td>\n",
       "      <td>57.1000</td>\n",
       "      <td>56.5041</td>\n",
       "      <td>56.8011</td>\n",
       "      <td>56.6122</td>\n",
       "      <td>56.9359</td>\n",
       "      <td>56.9372</td>\n",
       "      <td>57.0188</td>\n",
       "      <td>57.4942</td>\n",
       "      <td>57.5521</td>\n",
       "      <td>57.7033</td>\n",
       "      <td>...</td>\n",
       "      <td>64.0626</td>\n",
       "      <td>62.0659</td>\n",
       "      <td>61.4311</td>\n",
       "      <td>62.2794</td>\n",
       "      <td>61.1454</td>\n",
       "      <td>61.5539</td>\n",
       "      <td>60.8583</td>\n",
       "      <td>61.3222</td>\n",
       "      <td>61.7655</td>\n",
       "      <td>61.6644</td>\n",
       "    </tr>\n",
       "    <tr>\n",
       "      <td>4</td>\n",
       "      <td>56.5041</td>\n",
       "      <td>56.8011</td>\n",
       "      <td>56.6122</td>\n",
       "      <td>56.9359</td>\n",
       "      <td>56.9372</td>\n",
       "      <td>57.0188</td>\n",
       "      <td>57.4942</td>\n",
       "      <td>57.5521</td>\n",
       "      <td>57.7033</td>\n",
       "      <td>57.4954</td>\n",
       "      <td>...</td>\n",
       "      <td>62.0659</td>\n",
       "      <td>61.4311</td>\n",
       "      <td>62.2794</td>\n",
       "      <td>61.1454</td>\n",
       "      <td>61.5539</td>\n",
       "      <td>60.8583</td>\n",
       "      <td>61.3222</td>\n",
       "      <td>61.7655</td>\n",
       "      <td>61.6644</td>\n",
       "      <td>61.7494</td>\n",
       "    </tr>\n",
       "    <tr>\n",
       "      <td>...</td>\n",
       "      <td>...</td>\n",
       "      <td>...</td>\n",
       "      <td>...</td>\n",
       "      <td>...</td>\n",
       "      <td>...</td>\n",
       "      <td>...</td>\n",
       "      <td>...</td>\n",
       "      <td>...</td>\n",
       "      <td>...</td>\n",
       "      <td>...</td>\n",
       "      <td>...</td>\n",
       "      <td>...</td>\n",
       "      <td>...</td>\n",
       "      <td>...</td>\n",
       "      <td>...</td>\n",
       "      <td>...</td>\n",
       "      <td>...</td>\n",
       "      <td>...</td>\n",
       "      <td>...</td>\n",
       "      <td>...</td>\n",
       "      <td>...</td>\n",
       "    </tr>\n",
       "    <tr>\n",
       "      <td>461</td>\n",
       "      <td>60.9474</td>\n",
       "      <td>61.4140</td>\n",
       "      <td>61.4328</td>\n",
       "      <td>61.5694</td>\n",
       "      <td>61.5333</td>\n",
       "      <td>61.4654</td>\n",
       "      <td>61.8552</td>\n",
       "      <td>61.8343</td>\n",
       "      <td>61.9515</td>\n",
       "      <td>61.8031</td>\n",
       "      <td>...</td>\n",
       "      <td>63.3085</td>\n",
       "      <td>63.7698</td>\n",
       "      <td>63.6873</td>\n",
       "      <td>63.7413</td>\n",
       "      <td>64.3008</td>\n",
       "      <td>64.9213</td>\n",
       "      <td>65.5177</td>\n",
       "      <td>65.6097</td>\n",
       "      <td>66.9909</td>\n",
       "      <td>66.3274</td>\n",
       "    </tr>\n",
       "    <tr>\n",
       "      <td>462</td>\n",
       "      <td>61.4140</td>\n",
       "      <td>61.4328</td>\n",
       "      <td>61.5694</td>\n",
       "      <td>61.5333</td>\n",
       "      <td>61.4654</td>\n",
       "      <td>61.8552</td>\n",
       "      <td>61.8343</td>\n",
       "      <td>61.9515</td>\n",
       "      <td>61.8031</td>\n",
       "      <td>62.3380</td>\n",
       "      <td>...</td>\n",
       "      <td>63.7698</td>\n",
       "      <td>63.6873</td>\n",
       "      <td>63.7413</td>\n",
       "      <td>64.3008</td>\n",
       "      <td>64.9213</td>\n",
       "      <td>65.5177</td>\n",
       "      <td>65.6097</td>\n",
       "      <td>66.9909</td>\n",
       "      <td>66.3274</td>\n",
       "      <td>66.4437</td>\n",
       "    </tr>\n",
       "    <tr>\n",
       "      <td>463</td>\n",
       "      <td>61.4328</td>\n",
       "      <td>61.5694</td>\n",
       "      <td>61.5333</td>\n",
       "      <td>61.4654</td>\n",
       "      <td>61.8552</td>\n",
       "      <td>61.8343</td>\n",
       "      <td>61.9515</td>\n",
       "      <td>61.8031</td>\n",
       "      <td>62.3380</td>\n",
       "      <td>62.8299</td>\n",
       "      <td>...</td>\n",
       "      <td>63.6873</td>\n",
       "      <td>63.7413</td>\n",
       "      <td>64.3008</td>\n",
       "      <td>64.9213</td>\n",
       "      <td>65.5177</td>\n",
       "      <td>65.6097</td>\n",
       "      <td>66.9909</td>\n",
       "      <td>66.3274</td>\n",
       "      <td>66.4437</td>\n",
       "      <td>66.0784</td>\n",
       "    </tr>\n",
       "    <tr>\n",
       "      <td>464</td>\n",
       "      <td>61.5694</td>\n",
       "      <td>61.5333</td>\n",
       "      <td>61.4654</td>\n",
       "      <td>61.8552</td>\n",
       "      <td>61.8343</td>\n",
       "      <td>61.9515</td>\n",
       "      <td>61.8031</td>\n",
       "      <td>62.3380</td>\n",
       "      <td>62.8299</td>\n",
       "      <td>62.3934</td>\n",
       "      <td>...</td>\n",
       "      <td>63.7413</td>\n",
       "      <td>64.3008</td>\n",
       "      <td>64.9213</td>\n",
       "      <td>65.5177</td>\n",
       "      <td>65.6097</td>\n",
       "      <td>66.9909</td>\n",
       "      <td>66.3274</td>\n",
       "      <td>66.4437</td>\n",
       "      <td>66.0784</td>\n",
       "      <td>66.1854</td>\n",
       "    </tr>\n",
       "    <tr>\n",
       "      <td>465</td>\n",
       "      <td>61.5333</td>\n",
       "      <td>61.4654</td>\n",
       "      <td>61.8552</td>\n",
       "      <td>61.8343</td>\n",
       "      <td>61.9515</td>\n",
       "      <td>61.8031</td>\n",
       "      <td>62.3380</td>\n",
       "      <td>62.8299</td>\n",
       "      <td>62.3934</td>\n",
       "      <td>63.0359</td>\n",
       "      <td>...</td>\n",
       "      <td>64.3008</td>\n",
       "      <td>64.9213</td>\n",
       "      <td>65.5177</td>\n",
       "      <td>65.6097</td>\n",
       "      <td>66.9909</td>\n",
       "      <td>66.3274</td>\n",
       "      <td>66.4437</td>\n",
       "      <td>66.0784</td>\n",
       "      <td>66.1854</td>\n",
       "      <td>67.5175</td>\n",
       "    </tr>\n",
       "  </tbody>\n",
       "</table>\n",
       "<p>466 rows × 35 columns</p>\n",
       "</div>"
      ],
      "text/plain": [
       "      past_0   past_1   past_2   past_3   past_4   past_5   past_6   past_7  \\\n",
       "0    56.3742  56.4334  56.6616  57.1000  56.5041  56.8011  56.6122  56.9359   \n",
       "1    56.4334  56.6616  57.1000  56.5041  56.8011  56.6122  56.9359  56.9372   \n",
       "2    56.6616  57.1000  56.5041  56.8011  56.6122  56.9359  56.9372  57.0188   \n",
       "3    57.1000  56.5041  56.8011  56.6122  56.9359  56.9372  57.0188  57.4942   \n",
       "4    56.5041  56.8011  56.6122  56.9359  56.9372  57.0188  57.4942  57.5521   \n",
       "..       ...      ...      ...      ...      ...      ...      ...      ...   \n",
       "461  60.9474  61.4140  61.4328  61.5694  61.5333  61.4654  61.8552  61.8343   \n",
       "462  61.4140  61.4328  61.5694  61.5333  61.4654  61.8552  61.8343  61.9515   \n",
       "463  61.4328  61.5694  61.5333  61.4654  61.8552  61.8343  61.9515  61.8031   \n",
       "464  61.5694  61.5333  61.4654  61.8552  61.8343  61.9515  61.8031  62.3380   \n",
       "465  61.5333  61.4654  61.8552  61.8343  61.9515  61.8031  62.3380  62.8299   \n",
       "\n",
       "      past_8   past_9  ...  past_25  past_26  past_27  future_0  future_1  \\\n",
       "0    56.9372  57.0188  ...  57.8332  58.5714  62.3699   64.0626   62.0659   \n",
       "1    57.0188  57.4942  ...  58.5714  62.3699  64.0626   62.0659   61.4311   \n",
       "2    57.4942  57.5521  ...  62.3699  64.0626  62.0659   61.4311   62.2794   \n",
       "3    57.5521  57.7033  ...  64.0626  62.0659  61.4311   62.2794   61.1454   \n",
       "4    57.7033  57.4954  ...  62.0659  61.4311  62.2794   61.1454   61.5539   \n",
       "..       ...      ...  ...      ...      ...      ...       ...       ...   \n",
       "461  61.9515  61.8031  ...  63.3085  63.7698  63.6873   63.7413   64.3008   \n",
       "462  61.8031  62.3380  ...  63.7698  63.6873  63.7413   64.3008   64.9213   \n",
       "463  62.3380  62.8299  ...  63.6873  63.7413  64.3008   64.9213   65.5177   \n",
       "464  62.8299  62.3934  ...  63.7413  64.3008  64.9213   65.5177   65.6097   \n",
       "465  62.3934  63.0359  ...  64.3008  64.9213  65.5177   65.6097   66.9909   \n",
       "\n",
       "     future_2  future_3  future_4  future_5  future_6  \n",
       "0     61.4311   62.2794   61.1454   61.5539   60.8583  \n",
       "1     62.2794   61.1454   61.5539   60.8583   61.3222  \n",
       "2     61.1454   61.5539   60.8583   61.3222   61.7655  \n",
       "3     61.5539   60.8583   61.3222   61.7655   61.6644  \n",
       "4     60.8583   61.3222   61.7655   61.6644   61.7494  \n",
       "..        ...       ...       ...       ...       ...  \n",
       "461   64.9213   65.5177   65.6097   66.9909   66.3274  \n",
       "462   65.5177   65.6097   66.9909   66.3274   66.4437  \n",
       "463   65.6097   66.9909   66.3274   66.4437   66.0784  \n",
       "464   66.9909   66.3274   66.4437   66.0784   66.1854  \n",
       "465   66.3274   66.4437   66.0784   66.1854   67.5175  \n",
       "\n",
       "[466 rows x 35 columns]"
      ]
     },
     "execution_count": 20,
     "metadata": {},
     "output_type": "execute_result"
    }
   ],
   "source": [
    "transformed_df"
   ]
  },
  {
   "cell_type": "code",
   "execution_count": 22,
   "metadata": {},
   "outputs": [],
   "source": [
    "# Учебник, т.е. обучающая выборка\n",
    "x = transformed_df[past_columns][:-1] # То, на основе чего мы делаем предсказание\n",
    "y = transformed_df[future_columns][:-1] # То, что мы пытаемся предсказать"
   ]
  },
  {
   "cell_type": "code",
   "execution_count": 23,
   "metadata": {},
   "outputs": [],
   "source": [
    "# Экзамен, т.е. \"Тестовая выборка\"\n",
    "x_test = transformed_df[past_columns][-1:] \n",
    "y_test = transformed_df[future_columns][-1:]"
   ]
  },
  {
   "cell_type": "code",
   "execution_count": 24,
   "metadata": {},
   "outputs": [],
   "source": [
    "from sklearn.linear_model import LinearRegression"
   ]
  },
  {
   "cell_type": "code",
   "execution_count": 26,
   "metadata": {},
   "outputs": [
    {
     "data": {
      "text/plain": [
       "LinearRegression(copy_X=True, fit_intercept=True, n_jobs=None, normalize=False)"
      ]
     },
     "execution_count": 26,
     "metadata": {},
     "output_type": "execute_result"
    }
   ],
   "source": [
    "LinReg = LinearRegression()\n",
    "LinReg.fit(x, y)"
   ]
  },
  {
   "cell_type": "code",
   "execution_count": 29,
   "metadata": {},
   "outputs": [],
   "source": [
    "import matplotlib.pyplot as plt"
   ]
  },
  {
   "cell_type": "code",
   "execution_count": 16,
   "metadata": {},
   "outputs": [
    {
     "ename": "NameError",
     "evalue": "name 'prediction' is not defined",
     "output_type": "error",
     "traceback": [
      "\u001b[1;31m---------------------------------------------------------------------------\u001b[0m",
      "\u001b[1;31mNameError\u001b[0m                                 Traceback (most recent call last)",
      "\u001b[1;32m<ipython-input-16-bf2895737a91>\u001b[0m in \u001b[0;36m<module>\u001b[1;34m\u001b[0m\n\u001b[1;32m----> 1\u001b[1;33m \u001b[0mprint\u001b[0m\u001b[1;33m(\u001b[0m\u001b[1;34m\"MAE\"\u001b[0m\u001b[1;33m,\u001b[0m \u001b[0mmean_absolute_error\u001b[0m\u001b[1;33m(\u001b[0m\u001b[0mprediction\u001b[0m\u001b[1;33m[\u001b[0m\u001b[1;36m0\u001b[0m\u001b[1;33m]\u001b[0m\u001b[1;33m,\u001b[0m \u001b[0my_test\u001b[0m\u001b[1;33m.\u001b[0m\u001b[0miloc\u001b[0m\u001b[1;33m[\u001b[0m\u001b[1;36m0\u001b[0m\u001b[1;33m]\u001b[0m\u001b[1;33m)\u001b[0m\u001b[1;33m)\u001b[0m\u001b[1;33m\u001b[0m\u001b[1;33m\u001b[0m\u001b[0m\n\u001b[0m\u001b[0;32m      2\u001b[0m \u001b[0mprediction\u001b[0m \u001b[1;33m=\u001b[0m \u001b[0mLinReg\u001b[0m\u001b[1;33m.\u001b[0m\u001b[0mpredict\u001b[0m\u001b[1;33m(\u001b[0m\u001b[0mx_test\u001b[0m\u001b[1;33m)\u001b[0m\u001b[1;33m\u001b[0m\u001b[1;33m\u001b[0m\u001b[0m\n\u001b[0;32m      3\u001b[0m \u001b[0mplt\u001b[0m\u001b[1;33m.\u001b[0m\u001b[0mplot\u001b[0m\u001b[1;33m(\u001b[0m\u001b[0mprediction\u001b[0m\u001b[1;33m[\u001b[0m\u001b[1;36m0\u001b[0m\u001b[1;33m]\u001b[0m\u001b[1;33m,\u001b[0m \u001b[0mlabel\u001b[0m \u001b[1;33m=\u001b[0m \u001b[1;34m\"Prediction\"\u001b[0m\u001b[1;33m)\u001b[0m\u001b[1;33m\u001b[0m\u001b[1;33m\u001b[0m\u001b[0m\n\u001b[0;32m      4\u001b[0m \u001b[0mplt\u001b[0m\u001b[1;33m.\u001b[0m\u001b[0mplot\u001b[0m\u001b[1;33m(\u001b[0m\u001b[0my_test\u001b[0m\u001b[1;33m.\u001b[0m\u001b[0miloc\u001b[0m\u001b[1;33m[\u001b[0m\u001b[1;36m0\u001b[0m\u001b[1;33m]\u001b[0m\u001b[1;33m,\u001b[0m \u001b[0mlabel\u001b[0m \u001b[1;33m=\u001b[0m \u001b[1;34m\"Real\"\u001b[0m\u001b[1;33m)\u001b[0m\u001b[1;33m\u001b[0m\u001b[1;33m\u001b[0m\u001b[0m\n\u001b[0;32m      5\u001b[0m \u001b[0mplt\u001b[0m\u001b[1;33m.\u001b[0m\u001b[0mlegend\u001b[0m\u001b[1;33m(\u001b[0m\u001b[1;33m)\u001b[0m\u001b[1;33m\u001b[0m\u001b[1;33m\u001b[0m\u001b[0m\n",
      "\u001b[1;31mNameError\u001b[0m: name 'prediction' is not defined"
     ]
    }
   ],
   "source": [
    "print(\"MAE\", mean_absolute_error(prediction[0], y_test.iloc[0]))\n",
    "prediction = LinReg.predict(x_test)\n",
    "plt.plot(prediction[0], label = \"Prediction\")\n",
    "plt.plot(y_test.iloc[0], label = \"Real\")\n",
    "plt.legend()"
   ]
  },
  {
   "cell_type": "code",
   "execution_count": 15,
   "metadata": {},
   "outputs": [],
   "source": [
    "from sklearn.metrics import mean_absolute_error"
   ]
  },
  {
   "cell_type": "code",
   "execution_count": 34,
   "metadata": {},
   "outputs": [],
   "source": [
    "from sklearn.neighbors import KNeighborsRegressor"
   ]
  },
  {
   "cell_type": "code",
   "execution_count": 48,
   "metadata": {},
   "outputs": [],
   "source": [
    "KNN = KNeighborsRegressor(n_neighbors=2)"
   ]
  },
  {
   "cell_type": "code",
   "execution_count": 49,
   "metadata": {},
   "outputs": [
    {
     "data": {
      "text/plain": [
       "KNeighborsRegressor(algorithm='auto', leaf_size=30, metric='minkowski',\n",
       "                    metric_params=None, n_jobs=None, n_neighbors=2, p=2,\n",
       "                    weights='uniform')"
      ]
     },
     "execution_count": 49,
     "metadata": {},
     "output_type": "execute_result"
    }
   ],
   "source": [
    "KNN.fit(x, y)"
   ]
  },
  {
   "cell_type": "code",
   "execution_count": 12,
   "metadata": {},
   "outputs": [
    {
     "ename": "NameError",
     "evalue": "name 'KNN' is not defined",
     "output_type": "error",
     "traceback": [
      "\u001b[1;31m---------------------------------------------------------------------------\u001b[0m",
      "\u001b[1;31mNameError\u001b[0m                                 Traceback (most recent call last)",
      "\u001b[1;32m<ipython-input-12-15fbfe9fdf94>\u001b[0m in \u001b[0;36m<module>\u001b[1;34m\u001b[0m\n\u001b[1;32m----> 1\u001b[1;33m \u001b[0mprediction\u001b[0m \u001b[1;33m=\u001b[0m \u001b[0mKNN\u001b[0m\u001b[1;33m.\u001b[0m\u001b[0mpredict\u001b[0m\u001b[1;33m(\u001b[0m\u001b[0mx_test\u001b[0m\u001b[1;33m)\u001b[0m\u001b[1;33m\u001b[0m\u001b[1;33m\u001b[0m\u001b[0m\n\u001b[0m\u001b[0;32m      2\u001b[0m \u001b[0mprint\u001b[0m\u001b[1;33m(\u001b[0m\u001b[1;34m\"MAE\"\u001b[0m\u001b[1;33m,\u001b[0m \u001b[0mmean_absolute_error\u001b[0m\u001b[1;33m(\u001b[0m\u001b[0mprediction\u001b[0m\u001b[1;33m[\u001b[0m\u001b[1;36m0\u001b[0m\u001b[1;33m]\u001b[0m\u001b[1;33m,\u001b[0m \u001b[0my_test\u001b[0m\u001b[1;33m.\u001b[0m\u001b[0miloc\u001b[0m\u001b[1;33m[\u001b[0m\u001b[1;36m0\u001b[0m\u001b[1;33m]\u001b[0m\u001b[1;33m)\u001b[0m\u001b[1;33m)\u001b[0m\u001b[1;33m\u001b[0m\u001b[1;33m\u001b[0m\u001b[0m\n\u001b[0;32m      3\u001b[0m \u001b[0mplt\u001b[0m\u001b[1;33m.\u001b[0m\u001b[0mplot\u001b[0m\u001b[1;33m(\u001b[0m\u001b[0mprediction\u001b[0m\u001b[1;33m[\u001b[0m\u001b[1;36m0\u001b[0m\u001b[1;33m]\u001b[0m\u001b[1;33m,\u001b[0m \u001b[0mlabel\u001b[0m \u001b[1;33m=\u001b[0m \u001b[1;34m\"Prediction\"\u001b[0m\u001b[1;33m)\u001b[0m\u001b[1;33m\u001b[0m\u001b[1;33m\u001b[0m\u001b[0m\n\u001b[0;32m      4\u001b[0m \u001b[0mplt\u001b[0m\u001b[1;33m.\u001b[0m\u001b[0mplot\u001b[0m\u001b[1;33m(\u001b[0m\u001b[0my_test\u001b[0m\u001b[1;33m.\u001b[0m\u001b[0miloc\u001b[0m\u001b[1;33m[\u001b[0m\u001b[1;36m0\u001b[0m\u001b[1;33m]\u001b[0m\u001b[1;33m,\u001b[0m \u001b[0mlabel\u001b[0m \u001b[1;33m=\u001b[0m \u001b[1;34m\"Real\"\u001b[0m\u001b[1;33m)\u001b[0m\u001b[1;33m\u001b[0m\u001b[1;33m\u001b[0m\u001b[0m\n\u001b[0;32m      5\u001b[0m \u001b[0mplt\u001b[0m\u001b[1;33m.\u001b[0m\u001b[0mlegend\u001b[0m\u001b[1;33m(\u001b[0m\u001b[1;33m)\u001b[0m\u001b[1;33m\u001b[0m\u001b[1;33m\u001b[0m\u001b[0m\n",
      "\u001b[1;31mNameError\u001b[0m: name 'KNN' is not defined"
     ]
    }
   ],
   "source": [
    "prediction = KNN.predict(x_test)\n",
    "print(\"MAE\", mean_absolute_error(prediction[0], y_test.iloc[0]))\n",
    "plt.plot(prediction[0], label = \"Prediction\")\n",
    "plt.plot(y_test.iloc[0], label = \"Real\")\n",
    "plt.legend()"
   ]
  },
  {
   "cell_type": "code",
   "execution_count": 13,
   "metadata": {},
   "outputs": [],
   "source": [
    "from sklearn.neural_network import MLPRegressor"
   ]
  },
  {
   "cell_type": "code",
   "execution_count": 72,
   "metadata": {},
   "outputs": [
    {
     "data": {
      "text/plain": [
       "MLPRegressor(activation='relu', alpha=0.01, batch_size='auto', beta_1=0.9,\n",
       "             beta_2=0.999, early_stopping=False, epsilon=1e-08,\n",
       "             hidden_layer_sizes=(400, 50, 50), learning_rate='constant',\n",
       "             learning_rate_init=0.001, max_iter=500, momentum=0.9,\n",
       "             n_iter_no_change=10, nesterovs_momentum=True, power_t=0.5,\n",
       "             random_state=42, shuffle=True, solver='adam', tol=0.0001,\n",
       "             validation_fraction=0.1, verbose=False, warm_start=False)"
      ]
     },
     "execution_count": 72,
     "metadata": {},
     "output_type": "execute_result"
    }
   ],
   "source": [
    "MLP = MLPRegressor(random_state=42, alpha=0.01, max_iter=500, hidden_layer_sizes=(400, 50, 50))\n",
    "MLP.fit(x, y)"
   ]
  },
  {
   "cell_type": "code",
   "execution_count": 10,
   "metadata": {},
   "outputs": [
    {
     "ename": "NameError",
     "evalue": "name 'MLP' is not defined",
     "output_type": "error",
     "traceback": [
      "\u001b[1;31m---------------------------------------------------------------------------\u001b[0m",
      "\u001b[1;31mNameError\u001b[0m                                 Traceback (most recent call last)",
      "\u001b[1;32m<ipython-input-10-55ec35fbc424>\u001b[0m in \u001b[0;36m<module>\u001b[1;34m\u001b[0m\n\u001b[1;32m----> 1\u001b[1;33m \u001b[0mprediction\u001b[0m \u001b[1;33m=\u001b[0m \u001b[0mMLP\u001b[0m\u001b[1;33m.\u001b[0m\u001b[0mpredict\u001b[0m\u001b[1;33m(\u001b[0m\u001b[0mx_test\u001b[0m\u001b[1;33m)\u001b[0m\u001b[1;33m\u001b[0m\u001b[1;33m\u001b[0m\u001b[0m\n\u001b[0m\u001b[0;32m      2\u001b[0m \u001b[0mprint\u001b[0m\u001b[1;33m(\u001b[0m\u001b[1;34m\"MAE\"\u001b[0m\u001b[1;33m,\u001b[0m \u001b[0mmean_absolute_error\u001b[0m\u001b[1;33m(\u001b[0m\u001b[0mprediction\u001b[0m\u001b[1;33m[\u001b[0m\u001b[1;36m0\u001b[0m\u001b[1;33m]\u001b[0m\u001b[1;33m,\u001b[0m \u001b[0my_test\u001b[0m\u001b[1;33m.\u001b[0m\u001b[0miloc\u001b[0m\u001b[1;33m[\u001b[0m\u001b[1;36m0\u001b[0m\u001b[1;33m]\u001b[0m\u001b[1;33m)\u001b[0m\u001b[1;33m)\u001b[0m\u001b[1;33m\u001b[0m\u001b[1;33m\u001b[0m\u001b[0m\n\u001b[0;32m      3\u001b[0m \u001b[0mplt\u001b[0m\u001b[1;33m.\u001b[0m\u001b[0mplot\u001b[0m\u001b[1;33m(\u001b[0m\u001b[0mprediction\u001b[0m\u001b[1;33m[\u001b[0m\u001b[1;36m0\u001b[0m\u001b[1;33m]\u001b[0m\u001b[1;33m,\u001b[0m \u001b[0mlabel\u001b[0m \u001b[1;33m=\u001b[0m \u001b[1;34m\"Prediction\"\u001b[0m\u001b[1;33m)\u001b[0m\u001b[1;33m\u001b[0m\u001b[1;33m\u001b[0m\u001b[0m\n\u001b[0;32m      4\u001b[0m \u001b[0mplt\u001b[0m\u001b[1;33m.\u001b[0m\u001b[0mplot\u001b[0m\u001b[1;33m(\u001b[0m\u001b[0my_test\u001b[0m\u001b[1;33m.\u001b[0m\u001b[0miloc\u001b[0m\u001b[1;33m[\u001b[0m\u001b[1;36m0\u001b[0m\u001b[1;33m]\u001b[0m\u001b[1;33m,\u001b[0m \u001b[0mlabel\u001b[0m \u001b[1;33m=\u001b[0m \u001b[1;34m\"Real\"\u001b[0m\u001b[1;33m)\u001b[0m\u001b[1;33m\u001b[0m\u001b[1;33m\u001b[0m\u001b[0m\n\u001b[0;32m      5\u001b[0m \u001b[0mplt\u001b[0m\u001b[1;33m.\u001b[0m\u001b[0mlegend\u001b[0m\u001b[1;33m(\u001b[0m\u001b[1;33m)\u001b[0m\u001b[1;33m\u001b[0m\u001b[1;33m\u001b[0m\u001b[0m\n",
      "\u001b[1;31mNameError\u001b[0m: name 'MLP' is not defined"
     ]
    }
   ],
   "source": [
    "prediction = MLP.predict(x_test)\n",
    "print(\"MAE\", mean_absolute_error(prediction[0], y_test.iloc[0]))\n",
    "plt.plot(prediction[0], label = \"Prediction\")\n",
    "plt.plot(y_test.iloc[0], label = \"Real\")\n",
    "plt.legend()"
   ]
  },
  {
   "cell_type": "code",
   "execution_count": 11,
   "metadata": {},
   "outputs": [],
   "source": [
    "# GridSearchCV\n",
    "# GridSearch - поиск по \"сетке параметров\"\n",
    "# CV - CrossValidation"
   ]
  },
  {
   "cell_type": "code",
   "execution_count": 2,
   "metadata": {},
   "outputs": [],
   "source": [
    "from sklearn.model_selection import GridSearchCV"
   ]
  },
  {
   "cell_type": "code",
   "execution_count": 3,
   "metadata": {},
   "outputs": [],
   "source": [
    "from sklearn.ensemble import RandomForestRegressor"
   ]
  },
  {
   "cell_type": "code",
   "execution_count": 4,
   "metadata": {},
   "outputs": [],
   "source": [
    "RFR = RandomForestRegressor()"
   ]
  },
  {
   "cell_type": "code",
   "execution_count": 5,
   "metadata": {},
   "outputs": [],
   "source": [
    "param_grid = {\n",
    "    \"n_estimators\": [50,100,500],\n",
    "    'max_depth': [3, 5, 15],\n",
    "}\n",
    "GS = GridSearchCV(RFR, param_grid, scoring='neg_mean_absolute_error', cv=4)"
   ]
  },
  {
   "cell_type": "code",
   "execution_count": 9,
   "metadata": {},
   "outputs": [
    {
     "ename": "NameError",
     "evalue": "name 'x' is not defined",
     "output_type": "error",
     "traceback": [
      "\u001b[1;31m---------------------------------------------------------------------------\u001b[0m",
      "\u001b[1;31mNameError\u001b[0m                                 Traceback (most recent call last)",
      "\u001b[1;32m<ipython-input-9-08cd203fadf9>\u001b[0m in \u001b[0;36m<module>\u001b[1;34m\u001b[0m\n\u001b[1;32m----> 1\u001b[1;33m \u001b[0mGS\u001b[0m\u001b[1;33m.\u001b[0m\u001b[0mfit\u001b[0m\u001b[1;33m(\u001b[0m\u001b[0mx\u001b[0m\u001b[1;33m,\u001b[0m \u001b[0my\u001b[0m\u001b[1;33m)\u001b[0m\u001b[1;33m\u001b[0m\u001b[1;33m\u001b[0m\u001b[0m\n\u001b[0m",
      "\u001b[1;31mNameError\u001b[0m: name 'x' is not defined"
     ]
    }
   ],
   "source": [
    "GS.fit(x, y)"
   ]
  },
  {
   "cell_type": "code",
   "execution_count": null,
   "metadata": {},
   "outputs": [],
   "source": []
  },
  {
   "cell_type": "code",
   "execution_count": null,
   "metadata": {},
   "outputs": [],
   "source": []
  }
 ],
 "metadata": {
  "kernelspec": {
   "display_name": "Python 3",
   "language": "python",
   "name": "python3"
  },
  "language_info": {
   "codemirror_mode": {
    "name": "ipython",
    "version": 3
   },
   "file_extension": ".py",
   "mimetype": "text/x-python",
   "name": "python",
   "nbconvert_exporter": "python",
   "pygments_lexer": "ipython3",
   "version": "3.7.4"
  }
 },
 "nbformat": 4,
 "nbformat_minor": 2
}
